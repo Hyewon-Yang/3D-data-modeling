{
 "cells": [
  {
   "cell_type": "markdown",
   "id": "2ed1ffca",
   "metadata": {},
   "source": [
    "## Introduction to PyVista\n",
    "\n",
    "### **PyVista** : python library for 3D visualization and mesh analysis in Python\n",
    "\n",
    "#### Written by. Hyewon Park (hyewon.park@ey.com) in 2022.04.06.\n",
    "---------"
   ]
  },
  {
   "cell_type": "markdown",
   "id": "a563fcb4",
   "metadata": {},
   "source": [
    "### 1. Preliminary\n",
    "\n",
    "1-1. Installation  \n",
    "\n",
    "https://docs.pyvista.org/getting-started/installation.html  \n",
    "\n",
    "\n",
    "1-2. Basic concepts: Mesh, point, cell, attributes  \n",
    "\n",
    "https://docs.pyvista.org/user-guide/what-is-a-mesh.html"
   ]
  },
  {
   "cell_type": "markdown",
   "id": "7600620f",
   "metadata": {},
   "source": [
    "### 2. Process using PyVista\n",
    "\n",
    "https://docs.pyvista.org/user-guide/simple.html\n",
    "\n",
    "2-1. Import STL/VTK file"
   ]
  },
  {
   "cell_type": "code",
   "execution_count": null,
   "id": "4cc4532c",
   "metadata": {},
   "outputs": [],
   "source": [
    "import numpy as np\n",
    "import pyvista as pv\n",
    "from pyvista import examples"
   ]
  },
  {
   "cell_type": "code",
   "execution_count": null,
   "id": "55e83996",
   "metadata": {},
   "outputs": [],
   "source": [
    "# To import STL file, write path of your STL file\n",
    "mesh = pv.read('C:\\\\Users\\\\HJ374HG\\\\OneDrive - EY\\\\Desktop\\\\VS CODE\\\\GizoSpider.stl')\n",
    "\n",
    "# Convert STL to VTK\n",
    "mesh.save('GizoSpider.vtk')"
   ]
  },
  {
   "cell_type": "code",
   "execution_count": null,
   "id": "54309590",
   "metadata": {},
   "outputs": [],
   "source": [
    "# Define and plot the mesh\n",
    "mesh = pv.read('GizoSpider.vtk')\n",
    "mesh.plot()"
   ]
  },
  {
   "cell_type": "markdown",
   "id": "b9c58705",
   "metadata": {},
   "source": [
    "2-2. Access data"
   ]
  },
  {
   "cell_type": "code",
   "execution_count": null,
   "id": "392b0902",
   "metadata": {},
   "outputs": [],
   "source": [
    "print(f'n_cells: {mesh.n_cells}')\n",
    "print(f'n_points: {mesh.n_points}')\n",
    "print(f'scalar arrays: {mesh.n_arrays}') # Are there any scalar array?\n",
    "print(f'bounds: {mesh.bounds}') # length 6 tuple of floats containing min/max along each axis\n",
    "print(f'center: {mesh.center}')"
   ]
  },
  {
   "cell_type": "code",
   "execution_count": null,
   "id": "4ecfd11c",
   "metadata": {},
   "outputs": [],
   "source": [
    "the_pts = mesh.points # The points from the mesh are directly accessible as a NumPy array\n",
    "print(mesh.points)"
   ]
  },
  {
   "cell_type": "code",
   "execution_count": null,
   "id": "5cc8eb5c",
   "metadata": {},
   "outputs": [],
   "source": [
    "# The faces from the mesh are also directly accessible as a NumPy array\n",
    "print(mesh.faces.reshape(-1, 4))"
   ]
  },
  {
   "cell_type": "markdown",
   "id": "962dc0ac",
   "metadata": {},
   "source": [
    "2-3. Plotting"
   ]
  },
  {
   "cell_type": "code",
   "execution_count": null,
   "id": "147c5073",
   "metadata": {},
   "outputs": [],
   "source": [
    "# Method 1: Plot each data object\n",
    "mesh.plot()"
   ]
  },
  {
   "cell_type": "code",
   "execution_count": null,
   "id": "41b42a3e",
   "metadata": {},
   "outputs": [],
   "source": [
    "# Method 2: Create a plotter object to fine tune the scene\n",
    "plotter = pv.Plotter()\n",
    "plotter.add_mesh(mesh)\n",
    "plotter.camera.zoom(2)\n",
    "plotter.show()"
   ]
  },
  {
   "cell_type": "markdown",
   "id": "437dca3c",
   "metadata": {},
   "source": [
    "2-4. Exporting"
   ]
  },
  {
   "cell_type": "code",
   "execution_count": null,
   "id": "598e1c1c",
   "metadata": {},
   "outputs": [],
   "source": [
    "# Any PyVista mesh object can be saved to a VTK file format using save().\n",
    "# Since that mesh is pyvista.PolyData, we could use the .vtp, .stl, or .ply formats as well.\n",
    "mesh.save('GizoSpider.vtk')"
   ]
  },
  {
   "cell_type": "markdown",
   "id": "bd4e248d",
   "metadata": {},
   "source": [
    "### 3. Examples using PyVista\n",
    "\n",
    "3-1. Create points: 3 ways  \n",
    "\n",
    "https://docs.pyvista.org/user-guide/data_model.html#points-and-arrays-within-pyvista"
   ]
  },
  {
   "cell_type": "code",
   "execution_count": null,
   "id": "1fe7a906",
   "metadata": {},
   "outputs": [],
   "source": [
    "# Method 1: Wrapping a VTK array\n",
    "import vtk\n",
    "vtk_array = vtk.vtkDoubleArray() \n",
    "# vtkDoubleArray is an array of values of type double. \n",
    "# It provides methods for insertion and retrieval of values and will automatically resize itself to hold new data.\n",
    "vtk_array.SetNumberOfComponents(3)\n",
    "vtk_array.SetNumberOfValues(9)\n",
    "vtk_array.SetValue(0, 0)\n",
    "vtk_array.SetValue(1, 0)\n",
    "vtk_array.SetValue(2, 0)\n",
    "vtk_array.SetValue(3, 1)\n",
    "vtk_array.SetValue(4, 0)\n",
    "vtk_array.SetValue(5, 0)\n",
    "vtk_array.SetValue(6, 0.5)\n",
    "vtk_array.SetValue(7, 0.667)\n",
    "vtk_array.SetValue(8, 0)\n",
    "print(vtk_array)"
   ]
  },
  {
   "cell_type": "code",
   "execution_count": null,
   "id": "e3d05699",
   "metadata": {},
   "outputs": [],
   "source": [
    "# Method 2: Using Numpy with PyVista\n",
    "np_points = np.array([[0, 0, 0],\n",
    "                      [1, 0, 0],\n",
    "                      [0.5, 0.667, 0]])\n",
    "print(np_points)"
   ]
  },
  {
   "cell_type": "code",
   "execution_count": null,
   "id": "bc01dca9",
   "metadata": {},
   "outputs": [],
   "source": [
    "# Method 3: Using Python list or tuple\n",
    "points = [[0, 0, 0],\n",
    "          [1, 0, 0],\n",
    "          [0.5, 0.667, 0]]"
   ]
  },
  {
   "cell_type": "code",
   "execution_count": null,
   "id": "8a5bd4d5",
   "metadata": {},
   "outputs": [],
   "source": [
    "# Create mesh from data of 3 methods\n",
    "from_vtk = pv.PolyData(vtk_array)\n",
    "from_np = pv.PolyData(np_points)\n",
    "from_list = pv.PolyData(points)\n",
    "\n",
    "print(from_vtk.points)\n",
    "print(from_np.points)\n",
    "print(from_list.points) # Same results"
   ]
  },
  {
   "cell_type": "code",
   "execution_count": null,
   "id": "a6993d6a",
   "metadata": {
    "scrolled": true
   },
   "outputs": [],
   "source": [
    "from_vtk.plot(show_bounds=True, cpos='xy', point_size=20)\n",
    "from_np.plot(show_bounds=True, cpos='xy', point_size=20)\n",
    "from_list.plot(show_bounds=True, cpos='xy', point_size=20)"
   ]
  },
  {
   "cell_type": "markdown",
   "id": "e5e02b5b",
   "metadata": {},
   "source": [
    "3-2. Create surfaces  \n",
    "\n",
    "https://docs.pyvista.org/user-guide/data_model.html#geometry-and-mesh-connectivity-topology-within-pyvista"
   ]
  },
  {
   "cell_type": "code",
   "execution_count": null,
   "id": "0bfe3b5f",
   "metadata": {},
   "outputs": [],
   "source": [
    "points = [[0, 0, 0],\n",
    "          [1, 0, 0],\n",
    "          [0.5, 0.667, 0]]\n",
    "cells = [3, 0, 1, 2] # First value is number of points\n",
    "mesh = pv.PolyData(points, cells)\n",
    "print(mesh)\n",
    "mesh.plot(cpos='xy', show_edges=True)"
   ]
  },
  {
   "cell_type": "markdown",
   "id": "8f93e23b",
   "metadata": {},
   "source": [
    "3-3. Create a structured surface  \n",
    "\n",
    "https://docs.pyvista.org/examples/00-load/create-structured-surface.html"
   ]
  },
  {
   "cell_type": "code",
   "execution_count": null,
   "id": "4c6ddf5a",
   "metadata": {},
   "outputs": [],
   "source": [
    "# Make data\n",
    "x = np.arange(-10, 10, 0.25)\n",
    "y = np.arange(-10, 10, 0.25)\n",
    "x, y = np.meshgrid(x, y)\n",
    "r = np.sqrt(x**2 + y**2)\n",
    "z = np.sin(r)\n",
    "\n",
    "# Pass the NumPy meshgrid to PyVista\n",
    "grid = pv.StructuredGrid(x, y, z)\n",
    "grid.plot()\n",
    "\n",
    "# Plot mean curvature as well\n",
    "grid.plot_curvature(clim=[-1, 1])\n",
    "\n",
    "# Points as a numpy array\n",
    "print(grid.points)"
   ]
  },
  {
   "cell_type": "markdown",
   "id": "7bb091f3",
   "metadata": {},
   "source": [
    "3-4. Create triangulated surface  \n",
    "\n",
    "https://docs.pyvista.org/examples/00-load/create-tri-surface.html"
   ]
  },
  {
   "cell_type": "code",
   "execution_count": null,
   "id": "d2baa552",
   "metadata": {},
   "outputs": [],
   "source": [
    "# Define a simple Gaussian surface\n",
    "n = 20\n",
    "x = np.linspace(-200, 200, num=n) + np.random.uniform(-5, 5, size=n)\n",
    "y = np.linspace(-200, 200, num=n) + np.random.uniform(-5, 5, size=n)\n",
    "xx, yy = np.meshgrid(x, y)\n",
    "A, b = 100, 100\n",
    "zz = A * np.exp(-0.5 * ((xx / b) ** 2.0 + (yy / b) ** 2.0))\n",
    "\n",
    "# Get the points as a 2D NumPy array (N by 3)\n",
    "points = np.c_[xx.reshape(-1), yy.reshape(-1), zz.reshape(-1)]\n",
    "\n",
    "# Simply pass the numpy points to the PolyData constructor\n",
    "cloud = pv.PolyData(points)\n",
    "cloud.plot(point_size=15)\n",
    "\n",
    "# Triangulation to turn discrete points into a connected surface\n",
    "surf = cloud.delaunay_2d()\n",
    "surf.plot(show_edges=True)"
   ]
  },
  {
   "cell_type": "markdown",
   "id": "3d74991e",
   "metadata": {},
   "source": [
    "3-5. Contouring - Isolines and isosurfaces  \n",
    "\n",
    "https://docs.pyvista.org/examples/01-filter/contouring.html"
   ]
  },
  {
   "cell_type": "code",
   "execution_count": null,
   "id": "1c828a36",
   "metadata": {},
   "outputs": [],
   "source": [
    "# Extract 1D iso-lines of a scalar field from a 2D surface mesh\n",
    "mesh = examples.load_random_hills()\n",
    "contours = mesh.contour()\n",
    "p = pv.Plotter()\n",
    "p.add_mesh(mesh, opacity=0.85)\n",
    "p.add_mesh(contours, color=\"white\", line_width=5)\n",
    "p.show()\n",
    "\n",
    "# Extract 2D iso-surfaces of a scalar field from a 3D mesh\n",
    "mesh = examples.download_embryo()\n",
    "contours = mesh.contour(np.linspace(50, 200, 5))\n",
    "p = pv.Plotter()\n",
    "p.add_mesh(mesh.outline(), color=\"k\")\n",
    "p.add_mesh(contours, opacity=0.25, clim=[0, 200])\n",
    "p.camera_position = [(-130.99381142132086, 644.4868354828589, 163.80447435848686), \n",
    "                     (125.21748748157661, 123.94368717158413, 108.83283586619626), \n",
    "                     (0.2780372840777734, 0.03547871361794171, 0.9599148553609699)]\n",
    "p.show()"
   ]
  },
  {
   "cell_type": "markdown",
   "id": "50605e64",
   "metadata": {},
   "source": [
    "3-6. Distance between two surfaces  \n",
    "\n",
    "https://docs.pyvista.org/examples/01-filter/distance-between-surfaces.html"
   ]
  },
  {
   "cell_type": "code",
   "execution_count": null,
   "id": "0dcfa093",
   "metadata": {},
   "outputs": [],
   "source": [
    "# Define a function to make a random surface\n",
    "def hill(seed):\n",
    "    mesh = pv.ParametricRandomHills(randomseed=seed, u_res=50, v_res=50, hillamplitude=0.5)\n",
    "    mesh.rotate_y(-10, inplace=True) # Give the surfaces some tilt\n",
    "    return mesh\n",
    "\n",
    "h0 = hill(1).elevation()\n",
    "h1 = hill(10)\n",
    "# Shift one surface\n",
    "h1.points[:, -1] += 5\n",
    "h1 = h1.elevation()\n",
    "\n",
    "p = pv.Plotter()\n",
    "p.add_mesh(h0, smooth_shading=True)\n",
    "p.add_mesh(h1, smooth_shading=True)\n",
    "p.show_grid()\n",
    "p.show()"
   ]
  },
  {
   "cell_type": "code",
   "execution_count": null,
   "id": "b9aa4215",
   "metadata": {},
   "outputs": [],
   "source": [
    "# Method 1: Ray tracing distance (Used in our project!)\n",
    "# Compute the normals on the vertex points of the bottom surface, \n",
    "# and project a ray to the top surface to compute the distance along the surface normals.\n",
    "\n",
    "h0n = h0.compute_normals(point_normals=True,\n",
    "                         cell_normals=False,\n",
    "                         auto_orient_normals=True)\n",
    "h0n[\"distances\"] = np.empty(h0.n_points)\n",
    "\n",
    "for i in range(h0n.n_points):\n",
    "    p = h0n.points[i]\n",
    "    vec = h0n[\"Normals\"][i] * h0n.length\n",
    "    p0 = p - vec\n",
    "    p1 = p + vec\n",
    "    ip, ic = h1.ray_trace(p0, p1, first_point=True)\n",
    "    dist = np.sqrt(np.sum((ip - p) ** 2))\n",
    "    h0n[\"distances\"][i] = dist\n",
    "\n",
    "# Replace zeros with nans\n",
    "mask = h0n[\"distances\"] == 0\n",
    "h0n[\"distances\"][mask] = np.nan\n",
    "np.nanmean(h0n[\"distances\"])\n",
    "\n",
    "p = pv.Plotter()\n",
    "p.add_mesh(h0n, scalars=\"distances\", smooth_shading=True)\n",
    "p.add_mesh(h1, color=True, opacity=0.75, smooth_shading=True)\n",
    "p.show()"
   ]
  },
  {
   "cell_type": "code",
   "execution_count": null,
   "id": "f8663453",
   "metadata": {},
   "outputs": [],
   "source": [
    "# Method 2: Nearest neighbor distance\n",
    "# Use a KDTree to compute the distance from every vertex point in the bottom mesh \n",
    "# to its closest vertex point in the top mesh\n",
    "\n",
    "from scipy.spatial import KDTree\n",
    "\n",
    "tree = KDTree(h1.points)\n",
    "d_kdtree, idx = tree.query(h0.points)\n",
    "h0[\"distances\"] = d_kdtree\n",
    "np.mean(d_kdtree)\n",
    "\n",
    "p = pv.Plotter()\n",
    "p.add_mesh(h0, scalars=\"distances\", smooth_shading=True)\n",
    "p.add_mesh(h1, color=True, opacity=0.75, smooth_shading=True)\n",
    "p.show()"
   ]
  },
  {
   "cell_type": "code",
   "execution_count": null,
   "id": "f20ca4d9",
   "metadata": {},
   "outputs": [],
   "source": [
    "# Method 3: Using PyVista filter\n",
    "# Use a PyVista filter to calculate the distance from every vertex point in the bottom mesh \n",
    "# to the closest spatial point inside a cell of the top mesh\n",
    "\n",
    "closest_cells, closest_points = h1.find_closest_cell(h0.points, return_closest_point=True)\n",
    "d_exact = np.linalg.norm(h0.points - closest_points, axis=1)\n",
    "h0[\"distances\"] = d_exact\n",
    "np.mean(d_exact)\n",
    "\n",
    "p = pv.Plotter()\n",
    "p.add_mesh(h0, scalars=\"distances\", smooth_shading=True)\n",
    "p.add_mesh(h1, color=True, opacity=0.75, smooth_shading=True)\n",
    "p.show()"
   ]
  },
  {
   "cell_type": "markdown",
   "id": "7928056b",
   "metadata": {},
   "source": [
    "3-7. Extract cells inside surface  \n",
    "\n",
    "https://docs.pyvista.org/examples/01-filter/extract-cells-inside-surface.html"
   ]
  },
  {
   "cell_type": "code",
   "execution_count": null,
   "id": "0fee2d87",
   "metadata": {},
   "outputs": [],
   "source": [
    "mesh = examples.download_cow()\n",
    "cpos = [(13.0, 7.6, -13.85), (0.44, -0.4, -0.37), (-0.28, 0.9, 0.3)]\n",
    "dargs = dict(show_edges=True)\n",
    "\n",
    "# Rotate the mesh to have a second mesh\n",
    "rot = mesh.rotate_y(90, inplace=False)\n",
    "\n",
    "p = pv.Plotter()\n",
    "p.add_mesh(mesh, color=\"Crimson\", **dargs)\n",
    "p.add_mesh(rot, color=\"mintcream\", opacity=0.35, **dargs)\n",
    "p.camera_position = cpos\n",
    "p.show()\n",
    "\n",
    "# Mark points inside with 1 and outside with a 0\n",
    "select = mesh.select_enclosed_points(rot)\n",
    "inside = select.threshold(0.5) # Above 0.5\n",
    "outside = select.threshold(0.5, invert=True)\n",
    "\n",
    "p = pv.Plotter()\n",
    "p.add_mesh(outside, color=\"Crimson\", **dargs)\n",
    "p.add_mesh(inside, color=\"green\", **dargs)\n",
    "p.add_mesh(rot, color=\"mintcream\", opacity=0.35, **dargs)\n",
    "p.camera_position = cpos\n",
    "p.show()"
   ]
  }
 ],
 "metadata": {
  "kernelspec": {
   "display_name": "my_env",
   "language": "python",
   "name": "my_env"
  },
  "language_info": {
   "codemirror_mode": {
    "name": "ipython",
    "version": 3
   },
   "file_extension": ".py",
   "mimetype": "text/x-python",
   "name": "python",
   "nbconvert_exporter": "python",
   "pygments_lexer": "ipython3",
   "version": "3.9.7"
  }
 },
 "nbformat": 4,
 "nbformat_minor": 5
}
