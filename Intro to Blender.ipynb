{
 "cells": [
  {
   "cell_type": "markdown",
   "id": "2ed1ffca",
   "metadata": {},
   "source": [
    "## Introduction to Blender\n",
    "\n",
    "### **Blender** : open-source 3D computer graphics software\n",
    "\n",
    "#### Written by. Hyewon Park (hyewon.park@ey.com) in 2022.04.06.\n",
    "---------"
   ]
  },
  {
   "cell_type": "markdown",
   "id": "a563fcb4",
   "metadata": {},
   "source": [
    "### 1. Preliminary\n",
    "\n",
    "1-1. Installation  \n",
    "\n",
    "https://www.blender.org/  \n",
    "\n",
    "1-2. Basic tutorial videos for beginners to Blender  \n",
    "\n",
    "* Blender shortcut keys  \n",
    "\n",
    "    https://youtu.be/7FPaJpwzdjU  \n",
    "\n",
    "\n",
    "* Basic modeling example  \n",
    "\n",
    "    https://youtu.be/KqKtaD1hZ08  "
   ]
  },
  {
   "attachments": {},
   "cell_type": "markdown",
   "id": "7600620f",
   "metadata": {},
   "source": [
    "### 2. Examples using bpy\n",
    "\n",
    "bpy is **Blender as a python module with easy-install**.  \n",
    "\n",
    "Blender has an embedded Python interpreter which is loaded when Blender is started and stays active while Blender is running.  \n",
    "\n",
    "This interpreter runs scripts to draw the user interface and is used for some of Blender’s internal tools as well.  \n",
    "\n",
    "There are 3 ways to run scripts in Blender:  \n",
    "- Loaded in the text editor and press Run Script.  \n",
    "- Typed or pasted into the interactive console.  \n",
    "- Execute a Python file from the command line with Blender  \n",
    "\n",
    "We can divide the screen into 3D viewport(default), info, text editor or python console to use Python scripting.  \n",
    "\n",
    "Reference: https://docs.blender.org/api/current/index.html  "
   ]
  },
  {
   "cell_type": "markdown",
   "id": "9b07d661",
   "metadata": {},
   "source": [
    "2-1. Delete and add a cube"
   ]
  },
  {
   "cell_type": "code",
   "execution_count": null,
   "id": "5612504a",
   "metadata": {},
   "outputs": [],
   "source": [
    "import bpy\n",
    "\n",
    "# To delete objects with the API operators, switch to the “Object” mode if the scene is in the “Edit” mode.\n",
    "if bpy.context.object.mode == 'EDIT':\n",
    "    bpy.ops.object.mode_set(mode='OBJECT')\n",
    "    \n",
    "# Deselect all\n",
    "bpy.ops.object.select_all(action='DESELECT')\n",
    "\n",
    "# Select the default cube\n",
    "bpy.data.objects['Cube'].select_set(True)\n",
    "\n",
    "# Delete the default cube\n",
    "bpy.ops.object.delete()\n",
    "\n",
    "# Add a new cube\n",
    "bpy.ops.mesh.primitive_cube_add(\n",
    "    size=2, enter_editmode=False, align='WORLD',\n",
    "    location=(0, 0, 0), scale=(1, 1, 1))\n",
    "\n",
    "# Rename it\n",
    "bpy.context.active_object.name = 'MYCUBE'"
   ]
  },
  {
   "cell_type": "markdown",
   "id": "265ebe10",
   "metadata": {},
   "source": [
    "2-2. Create 10 cubes in a row"
   ]
  },
  {
   "cell_type": "code",
   "execution_count": null,
   "id": "ad51eafe",
   "metadata": {},
   "outputs": [],
   "source": [
    "import bpy\n",
    "\n",
    "# Make 10 cubes with a 0.2 gap between them on the X plane\n",
    "cubes = 10\n",
    "for i in range(cubes):\n",
    "    bpy.ops.mesh.primitive_cube_add(location=(i+i*0.2, 0, 0), size = 1)"
   ]
  },
  {
   "cell_type": "markdown",
   "id": "525ee3ce",
   "metadata": {},
   "source": [
    "You can see more examples of using bpy in the Templates > Python tab in text editor of Blender."
   ]
  },
  {
   "attachments": {},
   "cell_type": "markdown",
   "id": "bd4e248d",
   "metadata": {},
   "source": [
    "### 3. Examples using BMesh\n",
    "\n",
    "This module provides access to Blender bmesh data structures.  \n",
    "It helps us edit the mesh in the 'Edit' mode.  \n",
    "\n",
    "Details about BMesh:  \n",
    "\n",
    "https://behreajj.medium.com/shaping-models-with-bmesh-in-blender-2-9-2f4fcc889bf0"
   ]
  },
  {
   "cell_type": "markdown",
   "id": "f4b01f72",
   "metadata": {},
   "source": [
    "3-1. Move mesh  \n",
    "\n",
    "https://docs.blender.org/api/current/bmesh.html or bmesh_simple.py in Blender template"
   ]
  },
  {
   "cell_type": "code",
   "execution_count": null,
   "id": "1fe7a906",
   "metadata": {},
   "outputs": [],
   "source": [
    "# This example assumes we have a mesh object selected\n",
    "import bpy\n",
    "import bmesh\n",
    "\n",
    "# Get the active mesh\n",
    "me = bpy.context.object.data\n",
    "\n",
    "# Get a BMesh representation\n",
    "bm = bmesh.new()   # Create an empty BMesh\n",
    "bm.from_mesh(me)   # Fill it in from a Mesh\n",
    "\n",
    "# Modify the BMesh, can do anything here...\n",
    "for v in bm.verts:\n",
    "    v.co.x += 1.0\n",
    "\n",
    "# Finish up, write the bmesh back to the mesh\n",
    "bm.to_mesh(me)\n",
    "bm.free()  # Free and prevent further access"
   ]
  },
  {
   "attachments": {},
   "cell_type": "markdown",
   "id": "b0117518",
   "metadata": {},
   "source": [
    "3-2. Select mesh edges  \n",
    "\n",
    "I recommend you to use python console for this example.  \n",
    "\n",
    "https://youtu.be/qQvQFIyTn78"
   ]
  },
  {
   "cell_type": "code",
   "execution_count": null,
   "id": "e3d05699",
   "metadata": {},
   "outputs": [],
   "source": [
    ">>> import bpy\n",
    ">>> bpy.data.objects\n",
    "<bpy_collection[3], BlendDataObjects>\n",
    ">>> bpy.data.objects[0]\n",
    "bpy.data.objects['Camera']\n",
    ">>> bpy.data.objects[1]\n",
    "bpy.data.objects['Cube']\n",
    ">>> bpy.data.objects[2]\n",
    "bpy.data.objects['Light']\n",
    "\n",
    ">>> bpy.ops.object.mode_set(mode='EDIT') # Change to Edit mode\n",
    "{'FINISHED'}\n",
    ">>> bpy.ops.object.mode_set(mode='OBJECT') # Change to Object mode\n",
    "{'FINISHED'}\n",
    ">>> bpy.ops.object.mode_set(mode='EDIT')\n",
    "{'FINISHED'}\n",
    "\n",
    ">>> bpy.context.object.data\n",
    "bpy.data.meshes['Cube']\n",
    "\n",
    ">>> import bmesh\n",
    ">>> mesh = bmesh.from_edit_mesh(bpy.context.object.data)\n",
    ">>> mesh\n",
    "<BMesh(0x000001DC5CB4C108), totvert=8, totedge=12, totface=6, totloop=24>\n",
    ">>> mesh.verts[0]\n",
    "<BMVert(0x000001DC635EB110), index=0>\n",
    ">>> mesh.verts[1]\n",
    "<BMVert(0x000001DC635EB148), index=1>\n",
    ">>> mesh.verts[-1]\n",
    "<BMVert(0x000001DC635EB298), index=7>\n",
    "\n",
    ">>> mesh.verts[0].select = True # Select vertex\n",
    ">>> mesh.edges[0].select = True # Select edge\n",
    ">>> mesh.faces[0].select = True # Select face"
   ]
  }
 ],
 "metadata": {
  "kernelspec": {
   "display_name": "my_env",
   "language": "python",
   "name": "my_env"
  },
  "language_info": {
   "codemirror_mode": {
    "name": "ipython",
    "version": 3
   },
   "file_extension": ".py",
   "mimetype": "text/x-python",
   "name": "python",
   "nbconvert_exporter": "python",
   "pygments_lexer": "ipython3",
   "version": "3.9.7"
  }
 },
 "nbformat": 4,
 "nbformat_minor": 5
}
